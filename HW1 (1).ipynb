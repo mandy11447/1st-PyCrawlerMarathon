{
 "cells": [
  {
   "cell_type": "markdown",
   "metadata": {},
   "source": [
    "1.（簡答題）檔案、API、爬蟲三種取得資料方式有什麼不同？"
   ]
  },
  {
   "cell_type": "markdown",
   "metadata": {},
   "source": [
    "檔案：\n",
    "資料會包成檔案提供下載，格式可能包含常用的標準格式，例如「CSV」、「JSON」等等通用的格式，由資料擁有者主動釋出。\n",
    "\n",
    "API：\n",
    "提供程式化的連接的接口，不需要把整批資料事先完整下載回來，由資料擁有者主動釋出。\n",
    "\n",
    "爬蟲：\n",
    "資料沒有以檔案或API提供，利用爬蟲程式，將網頁的資料解析所需的部分，資料擁有者被動公開的"
   ]
  },
  {
   "cell_type": "markdown",
   "metadata": {},
   "source": [
    "2.（實作）完成一個程式，需滿足下列需求：\n",
    "* 下載指定檔案到 Data 資料夾，存成檔名 Homework.txt\n",
    "* 檢查 Data 資料夾是否有 Homework.txt 檔名之檔案\n",
    "* 將「Hello World」字串覆寫到 Homework.txt 檔案\n",
    "* 檢查 Homework.txt 檔案字數是否符合 Hello World 字數"
   ]
  },
  {
   "cell_type": "code",
   "execution_count": 3,
   "metadata": {},
   "outputs": [],
   "source": [
    "import os\n",
    "from urllib.request import urlretrieve\n",
    "os.makedirs('D:/Data/',exist_ok = True)"
   ]
  },
  {
   "cell_type": "code",
   "execution_count": 6,
   "metadata": {},
   "outputs": [
    {
     "data": {
      "text/plain": [
       "('D:/data/Homework.txt', <http.client.HTTPMessage at 0x2bd0f62ee10>)"
      ]
     },
     "execution_count": 6,
     "metadata": {},
     "output_type": "execute_result"
    }
   ],
   "source": [
    "urlretrieve (\"https://www.w3.org/TR/PNG/iso_8859-1.txt\", \"D:/1.txt\") ##下載檔案至Data\n",
    "urlretrieve (\"https://www.w3.org/TR/PNG/iso_8859-1.txt\", \"D:/data/Homework.txt\") ##下載檔案並存成Homework"
   ]
  },
  {
   "cell_type": "code",
   "execution_count": 7,
   "metadata": {},
   "outputs": [
    {
     "name": "stdout",
     "output_type": "stream",
     "text": [
      "2.txt\n",
      "Homework.txt\n"
     ]
    }
   ],
   "source": [
    "##檢查Data 資料夾是否有 Homework.txt 檔名之檔案\n",
    "dirs = os.listdir('D:/Data/')   ##打開文件\n",
    "for file in dirs:\n",
    "    print(file)                 ##顯示所有文件\n",
    "\n"
   ]
  },
  {
   "cell_type": "code",
   "execution_count": 25,
   "metadata": {},
   "outputs": [
    {
     "name": "stdout",
     "output_type": "stream",
     "text": [
      "11\n"
     ]
    }
   ],
   "source": [
    "##將「Hello World」字串覆寫到 Homework.txt 檔案\n",
    "fh = open(\"example2.txt\",\"w\")\n",
    "f = fh.write(\"Hello world\") \n",
    "fh.close()\n",
    "print(f)\n"
   ]
  },
  {
   "cell_type": "code",
   "execution_count": 18,
   "metadata": {},
   "outputs": [
    {
     "name": "stdout",
     "output_type": "stream",
     "text": [
      "Hello world\n"
     ]
    }
   ],
   "source": [
    "fh = open(\"example2.txt\",\"r\")\n",
    "f = fh.read() \n",
    "fh.close()\n",
    "print(f)"
   ]
  },
  {
   "cell_type": "code",
   "execution_count": null,
   "metadata": {},
   "outputs": [],
   "source": []
  }
 ],
 "metadata": {
  "kernelspec": {
   "display_name": "Python 3",
   "language": "python",
   "name": "python3"
  },
  "language_info": {
   "codemirror_mode": {
    "name": "ipython",
    "version": 3
   },
   "file_extension": ".py",
   "mimetype": "text/x-python",
   "name": "python",
   "nbconvert_exporter": "python",
   "pygments_lexer": "ipython3",
   "version": "3.7.3"
  }
 },
 "nbformat": 4,
 "nbformat_minor": 2
}
